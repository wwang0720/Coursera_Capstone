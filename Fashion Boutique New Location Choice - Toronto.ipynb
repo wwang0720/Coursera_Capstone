{
    "cells": [
        {
            "cell_type": "markdown",
            "metadata": {
                "collapsed": true
            },
            "source": "# Fashion Boutique New Location in Toronto"
        },
        {
            "cell_type": "markdown",
            "metadata": {},
            "source": "#### Question1 A description of the problem and a discussion of the background."
        },
        {
            "cell_type": "markdown",
            "metadata": {},
            "source": "Miami-based multi-brand luxury retailer The Webster will open its first Canadian storefront in July of 2021 in Toronto\u2019s affluent Yorkville neighbourhood. The Webster is expected to disrupt luxury retailing in the city with an innovate strategy that includes one-on-one clienteling and a selection of luxury goods that in some instances are not sold elsewhere.\n\nThe Webster was founded in 2009 when Laure Heriard Dubreuil opened a 20,000-square-foot store in the former Webster Hotel at 1220 Collins Avenue in South Beach, Miami. The Art Deco building spans three floors and became a draw for locals and tourists. \u201cThe idea was a place where you can feel very comfortable,\u201d said Ms. Heriard Dubreuil of The Webster\u2019s concept. \u201cIt\u2019s a place to spend time. You arrive, you take off your shoes, you\u2019re at someone\u2019s house, or you\u2019re in your gigantic closet, and you can try everything.\u201d Rather than organize the store according to brand, Ms. Heriard Dubreuil merchandised it as if it were a personal wardrobe by mixing big brands with the emerging, arranging everything intuitively by mood, which was revolutionary at the time.\n\nMore than 100 of the industry\u2019s leading fashion designers are available at The Webster stores including ready-to-wear for women, men, and kids. Brands include Alexander Wang, Amiri, Amina Muaddi, Balenciaga, Bottega Veneta, Burberry, Celine, Chanel, Chlo\u00e9, Dior, Dries Van Noten, Fendi, Fear of God, Givenchy, Gucci, Heron Preston, Jacquemus, Khaite, LaQuan Smith, Loewe, Marine Serre, Off-White, Paco Rabanne, Palm Angels, Raf Simons, Rhude, Saint Laurent, and The Row among others. A private label brand called LHD, designed by the founder herself, adds an extra element of uniqueness with bold silhouettes and playful prints. The Webster also features an expanded assortment of products including fine jewellery, home goods and most recently, beauty products.\n\nThe Webster\u2019s Toronto store will span about 6,500 square feet in a heritage building at 121 Scollard Street near the corner of Hazelton Avenue. The Scollard Street store will be The Webster\u2019s eighth retail store and the brand\u2019s first outside of the United States.\n\nSo in this project, I am going to utilize Foursquare location and data to answer why did the founder choose to open a brand new boutique in Toronto in Yorkvielle by analyzing the potential gain and advantages in this neighborhood and what value it could bring to a fashion boutique."
        },
        {
            "cell_type": "markdown",
            "metadata": {},
            "source": "#### Question 2 Describe the data that you will be using to solve the problem or execute your idea"
        },
        {
            "cell_type": "markdown",
            "metadata": {},
            "source": "First of all, I will use the foursquare location and local data to analyze the Yorkville neighborhood, including the analysis of business district, foot trafic, shopping malls and entertainment spots. \nSecondly, I will find the top 10 venues in that neighborhood and see if the webster new boutique location is within one of the venue. \nFinally, I will conduct a competitive analysis and predict the webster performance after it opens the store in summer 2021."
        }
    ],
    "metadata": {
        "kernelspec": {
            "display_name": "Python 3.7",
            "language": "python",
            "name": "python3"
        },
        "language_info": {
            "codemirror_mode": {
                "name": "ipython",
                "version": 3
            },
            "file_extension": ".py",
            "mimetype": "text/x-python",
            "name": "python",
            "nbconvert_exporter": "python",
            "pygments_lexer": "ipython3",
            "version": "3.7.10"
        }
    },
    "nbformat": 4,
    "nbformat_minor": 1
}